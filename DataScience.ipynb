{
 "cells": [
  {
   "cell_type": "markdown",
   "id": "730c2504-3fd1-43d5-aa8f-e648188f72b3",
   "metadata": {},
   "source": [
    "# Data Science Tools and Ecosystem"
   ]
  },
  {
   "cell_type": "markdown",
   "id": "80497451-5df6-4b0c-9361-284d48a6f9be",
   "metadata": {},
   "source": [
    "Some of the popular langauge that Data Scientists use are :\n",
    "|S.no |Language for Data Science |\n",
    "|-----| ------------------------|\n",
    "|1    |  Python                |\n",
    "| 2   |  R                     |\n",
    "| 3    | SQL                   |\n"
   ]
  },
  {
   "cell_type": "markdown",
   "id": "796c3c92-f950-40c0-bc93-8923c51ea0ac",
   "metadata": {},
   "source": [
    "Some of the commonly used libraries used by Data Scientist include:\n",
    "|S.no | Libraries | \n",
    "| ---|-----------|\n",
    "|1 |  mathplotlib |\n",
    "|2 | Numpy    |\n",
    "|3  | Pandas   |"
   ]
  },
  {
   "cell_type": "markdown",
   "id": "4de568c1-0cb3-48b3-93df-4486d6c94da6",
   "metadata": {},
   "source": [
    "Data Science tools : \n",
    "|Apache Spark|\n",
    "|----------|\n",
    "|Apache hadoop|\n",
    "|Tensorflow |\n",
    "|Python |\n",
    "|Scokit - learn |"
   ]
  },
  {
   "cell_type": "code",
   "execution_count": 32,
   "id": "d1d5944a-f6fe-4daf-8643-3b9441c4595f",
   "metadata": {},
   "outputs": [
    {
     "data": {
      "text/plain": [
       "17"
      ]
     },
     "execution_count": 32,
     "metadata": {},
     "output_type": "execute_result"
    }
   ],
   "source": [
    "## This a simple arithmetic expression to multiply then add integers :\n",
    "(3*4) +5 \n"
   ]
  },
  {
   "cell_type": "markdown",
   "id": "091ce6a1-bacc-45a6-b7d5-a1f322f25df4",
   "metadata": {},
   "source": [
    "###Below are a few examples of evaluating arithmetic  expressions in Python :\n",
    "2 +2\n"
   ]
  },
  {
   "cell_type": "code",
   "execution_count": null,
   "id": "444265b4-60c9-4d9e-a55a-54defe0cd113",
   "metadata": {},
   "outputs": [],
   "source": [
    "#This will convert 200 minutes to hours by diving by 60:\n",
    "  $\\frac{200}{60}"
   ]
  },
  {
   "cell_type": "markdown",
   "id": "0324c759-6dfc-448c-ac46-3a4eeb8d461a",
   "metadata": {},
   "source": []
  },
  {
   "cell_type": "markdown",
   "id": "569a662e-9f9e-4cb3-95a1-3606a3397b59",
   "metadata": {},
   "source": [
    "**Objectives** :\n",
    "#List popular languages for Data Science\n",
    "Python , R , SQL\n",
    "\n",
    "\n",
    "\n"
   ]
  },
  {
   "cell_type": "markdown",
   "id": "9d9ec14e-82ba-4140-b4a9-00d3656fbcb2",
   "metadata": {},
   "source": [
    "## Author\n",
    "Utkarsh tiwari\n",
    "\n"
   ]
  },
  {
   "cell_type": "markdown",
   "id": "d8b62256-ad94-441f-be88-008cb66ac38f",
   "metadata": {},
   "source": [
    "# In this notebook, Data Science Tools and Ecosystem are summarized."
   ]
  },
  {
   "cell_type": "code",
   "execution_count": null,
   "id": "1eccb006-c639-43dc-aa3e-cc9f6a3d88d0",
   "metadata": {},
   "outputs": [],
   "source": []
  }
 ],
 "metadata": {
  "kernelspec": {
   "display_name": "Python 3 (ipykernel)",
   "language": "python",
   "name": "python3"
  },
  "language_info": {
   "codemirror_mode": {
    "name": "ipython",
    "version": 3
   },
   "file_extension": ".py",
   "mimetype": "text/x-python",
   "name": "python",
   "nbconvert_exporter": "python",
   "pygments_lexer": "ipython3",
   "version": "3.12.4"
  }
 },
 "nbformat": 4,
 "nbformat_minor": 5
}
